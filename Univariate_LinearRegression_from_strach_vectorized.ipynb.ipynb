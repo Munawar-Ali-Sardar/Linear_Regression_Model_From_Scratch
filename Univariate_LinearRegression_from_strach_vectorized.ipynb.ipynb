{
 "cells": [
  {
   "cell_type": "markdown",
   "id": "957a1d4a-4841-4eeb-8461-0836b4788c3d",
   "metadata": {},
   "source": [
    "# Problem Statement"
   ]
  },
  {
   "cell_type": "markdown",
   "id": "8db273be-1e92-4c28-9165-83df3316502e",
   "metadata": {},
   "source": [
    "Let's use the same two data points as before - a house with 1000 square feet sold for 300,000 and a house with 2000 square feet sold for 500,000. (dollars)"
   ]
  },
  {
   "cell_type": "code",
   "execution_count": 1,
   "id": "7af11b74-1a4d-4150-bfba-872792bb8880",
   "metadata": {},
   "outputs": [],
   "source": [
    "import math, copy \n",
    "import numpy as np\n",
    "import matplotlib.pyplot as plt"
   ]
  },
  {
   "cell_type": "code",
   "execution_count": 2,
   "id": "f3d69cd7-fc60-424b-aeee-94d0f8871c99",
   "metadata": {},
   "outputs": [],
   "source": [
    "# load our data sets \n",
    "x_train = np.array([1.0, 2.0])\n",
    "y_train = np.array([300., 500.])"
   ]
  },
  {
   "cell_type": "markdown",
   "id": "8ef9bcd2-ed2c-434a-9657-e623db20c252",
   "metadata": {},
   "source": [
    "#### Compute Cost"
   ]
  },
  {
   "cell_type": "code",
   "execution_count": 3,
   "id": "fefc7cda-5165-4594-9a13-b4d4715bb368",
   "metadata": {},
   "outputs": [],
   "source": [
    "def compute_cost(x, y, w, b):\n",
    "    m = x.shape[0]\n",
    "    cost = 0\n",
    "    for i in range(m):\n",
    "        f_wb_i = np.dot(x[i], w) + b\n",
    "        cost += (f_wb_i - y[i])**2\n",
    "    cost = cost/(2*m)\n",
    "    return cost"
   ]
  },
  {
   "cell_type": "markdown",
   "id": "d81c2608-482a-49a5-8c19-9621b90f6344",
   "metadata": {},
   "source": [
    "#### Compute Gradient"
   ]
  },
  {
   "cell_type": "code",
   "execution_count": 4,
   "id": "ba2207b1-5ac9-4f6f-a259-cbad7a69b17c",
   "metadata": {},
   "outputs": [],
   "source": [
    "def compute_gradient(x, y, w, b):\n",
    "    m = x.shape[0]\n",
    "    dj_dw = 0\n",
    "    dj_db = 0\n",
    "\n",
    "    for i in range(m):\n",
    "        f_wb = np.dot(x[i], w) + b\n",
    "        dj_dw_i = (f_wb - y[i]) * x[i]\n",
    "        dj_db_i = (f_wb - y[i])\n",
    "        dj_db += dj_db_i\n",
    "        dj_dw += dj_dw_i\n",
    "    dj_dw, dj_db = dj_dw/m, dj_db/m\n",
    "    return dj_dw, dj_db"
   ]
  },
  {
   "cell_type": "code",
   "execution_count": 5,
   "id": "d032e303-fa21-4b6b-a630-ddfc4dc9a551",
   "metadata": {},
   "outputs": [],
   "source": [
    "#### Gradient Descent"
   ]
  },
  {
   "cell_type": "code",
   "execution_count": 6,
   "id": "009ef956-5941-4350-9d98-958a440d6f49",
   "metadata": {},
   "outputs": [],
   "source": [
    "def gradient_descent(x, y, w_in, b_in, alpha, num_iters, cost_function, gradient_function):\n",
    "    w = copy.deepcopy(w_in)\n",
    "    J_history = []\n",
    "    p_history = []\n",
    "    b = b_in\n",
    "    w = w_in\n",
    "\n",
    "    for i in range(num_iters):\n",
    "        dj_dw, dj_db = gradient_function(x, y, w,b)\n",
    "\n",
    "        # update the parameter \n",
    "        b = b - alpha * dj_db\n",
    "        w = w - alpha * dj_dw\n",
    "\n",
    "        # save cost J at each iteration\n",
    "        if i<100000:\n",
    "            J_history.append(cost_function(x,y,w,b))\n",
    "            p_history.append([w, b])\n",
    "        if i% math.ceil(num_iters/10) == 0:\n",
    "            print(f\"Iteration {i:4}: Cost {J_history[-1]:0.2e} \",\n",
    "                  f\"dj_dw: {dj_dw: 0.3e}, dj_db: {dj_db: 0.3e}  \",\n",
    "                  f\"w: {w: 0.3e}, b:{b: 0.5e}\")\n",
    "    return w, b, J_history, p_history"
   ]
  },
  {
   "cell_type": "markdown",
   "id": "87801414-e690-4c28-a610-b7e43d9ce77f",
   "metadata": {},
   "source": [
    "#### Cost vs Gradient Plot"
   ]
  },
  {
   "cell_type": "code",
   "execution_count": 7,
   "id": "2d94ae0d-381c-4459-91c8-2ab5567d0b0a",
   "metadata": {},
   "outputs": [
    {
     "name": "stdout",
     "output_type": "stream",
     "text": [
      "Iteration    0: Cost 7.93e+04  dj_dw: -6.500e+02, dj_db: -4.000e+02   w:  6.500e+00, b: 4.00000e+00\n",
      "Iteration 1000: Cost 3.41e+00  dj_dw: -3.712e-01, dj_db:  6.007e-01   w:  1.949e+02, b: 1.08228e+02\n",
      "Iteration 2000: Cost 7.93e-01  dj_dw: -1.789e-01, dj_db:  2.895e-01   w:  1.975e+02, b: 1.03966e+02\n",
      "Iteration 3000: Cost 1.84e-01  dj_dw: -8.625e-02, dj_db:  1.396e-01   w:  1.988e+02, b: 1.01912e+02\n",
      "Iteration 4000: Cost 4.28e-02  dj_dw: -4.158e-02, dj_db:  6.727e-02   w:  1.994e+02, b: 1.00922e+02\n",
      "Iteration 5000: Cost 9.95e-03  dj_dw: -2.004e-02, dj_db:  3.243e-02   w:  1.997e+02, b: 1.00444e+02\n",
      "Iteration 6000: Cost 2.31e-03  dj_dw: -9.660e-03, dj_db:  1.563e-02   w:  1.999e+02, b: 1.00214e+02\n",
      "Iteration 7000: Cost 5.37e-04  dj_dw: -4.657e-03, dj_db:  7.535e-03   w:  1.999e+02, b: 1.00103e+02\n",
      "Iteration 8000: Cost 1.25e-04  dj_dw: -2.245e-03, dj_db:  3.632e-03   w:  2.000e+02, b: 1.00050e+02\n",
      "Iteration 9000: Cost 2.90e-05  dj_dw: -1.082e-03, dj_db:  1.751e-03   w:  2.000e+02, b: 1.00024e+02\n",
      "(w,b) found by gradient descent: (199.9929, 100.0116)\n"
     ]
    }
   ],
   "source": [
    "# initiate_parameters\n",
    "w_in, b_in = 0, 0\n",
    "iterations = 10000\n",
    "tmp_alpha = 1.0e-2\n",
    "\n",
    "w_final, b_final, J_hist, p_hist = gradient_descent(x_train, y_train, w_in, b_in, tmp_alpha,\n",
    "                                                    iterations, compute_cost, compute_gradient)\n",
    "print(f\"(w,b) found by gradient descent: ({w_final:8.4f}, {b_final:8.4f})\")"
   ]
  },
  {
   "cell_type": "code",
   "execution_count": null,
   "id": "b813c1f9-859d-4408-8181-acf826928655",
   "metadata": {},
   "outputs": [],
   "source": []
  },
  {
   "cell_type": "code",
   "execution_count": null,
   "id": "8fb53f3a-aaa9-4599-91df-89a237c0c5db",
   "metadata": {},
   "outputs": [],
   "source": []
  }
 ],
 "metadata": {
  "kernelspec": {
   "display_name": "Python 3 (ipykernel)",
   "language": "python",
   "name": "python3"
  },
  "language_info": {
   "codemirror_mode": {
    "name": "ipython",
    "version": 3
   },
   "file_extension": ".py",
   "mimetype": "text/x-python",
   "name": "python",
   "nbconvert_exporter": "python",
   "pygments_lexer": "ipython3",
   "version": "3.11.7"
  }
 },
 "nbformat": 4,
 "nbformat_minor": 5
}
